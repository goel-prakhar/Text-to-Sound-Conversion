{
 "cells": [
  {
   "cell_type": "code",
   "execution_count": null,
   "metadata": {},
   "outputs": [],
   "source": []
  },
  {
   "cell_type": "code",
   "execution_count": 2,
   "metadata": {},
   "outputs": [
    {
     "name": "stdout",
     "output_type": "stream",
     "text": [
      "What should I sayy? >  Cheers to all present here\n"
     ]
    }
   ],
   "source": [
    "import io\n",
    "import pygame\n",
    "from gtts import gTTS\n",
    "\n",
    "def speak(text):\n",
    "    with io.BytesIO() as file:\n",
    "        gTTS(text=text, lang=\"en\").write_to_fp(file)\n",
    "        file.seek(0)\n",
    "        pygame.mixer.init()\n",
    "        pygame.mixer.music.load(file)\n",
    "        pygame.mixer.music.play()\n",
    "        while pygame.mixer.music.get_busy():\n",
    "            continue\n",
    "            \n",
    "if __name__ == '__main__':\n",
    "    text=input(\"What should I sayy? > \")\n",
    "    speak(text)"
   ]
  },
  {
   "cell_type": "code",
   "execution_count": null,
   "metadata": {},
   "outputs": [],
   "source": []
  },
  {
   "cell_type": "code",
   "execution_count": null,
   "metadata": {},
   "outputs": [],
   "source": []
  }
 ],
 "metadata": {
  "kernelspec": {
   "display_name": "Python 3",
   "language": "python",
   "name": "python3"
  },
  "language_info": {
   "codemirror_mode": {
    "name": "ipython",
    "version": 3
   },
   "file_extension": ".py",
   "mimetype": "text/x-python",
   "name": "python",
   "nbconvert_exporter": "python",
   "pygments_lexer": "ipython3",
   "version": "3.7.4"
  }
 },
 "nbformat": 4,
 "nbformat_minor": 2
}
